{
 "cells": [
  {
   "cell_type": "code",
   "execution_count": 2,
   "id": "ebc27775",
   "metadata": {},
   "outputs": [
    {
     "name": "stderr",
     "output_type": "stream",
     "text": [
      "WARNING: Using incubator modules: jdk.incubator.vector\n",
      "Using Spark's default log4j profile: org/apache/spark/log4j2-defaults.properties\n",
      "25/06/20 10:18:47 WARN Utils: Your hostname, Nagendras-MacBook-Pro.local, resolves to a loopback address: 127.0.0.1; using 192.168.1.17 instead (on interface en0)\n",
      "25/06/20 10:18:47 WARN Utils: Set SPARK_LOCAL_IP if you need to bind to another address\n",
      "25/06/20 10:18:47 WARN NativeCodeLoader: Unable to load native-hadoop library for your platform... using builtin-java classes where applicable\n",
      "Using Spark's default log4j profile: org/apache/spark/log4j2-defaults.properties\n",
      "Setting default log level to \"WARN\".\n",
      "To adjust logging level use sc.setLogLevel(newLevel). For SparkR, use setLogLevel(newLevel).\n",
      "/Users/aryan/Desktop/project/venv/lib/python3.9/site-packages/google/rpc/__init__.py:18: UserWarning: pkg_resources is deprecated as an API. See https://setuptools.pypa.io/en/latest/pkg_resources.html. The pkg_resources package is slated for removal as early as 2025-11-30. Refrain from using this package or pin to Setuptools<81.\n",
      "  import pkg_resources\n"
     ]
    },
    {
     "name": "stdout",
     "output_type": "stream",
     "text": [
      "✅ Spark session started.\n"
     ]
    }
   ],
   "source": [
    "# STEP 0: Setup & Spark\n",
    "import os\n",
    "import sys\n",
    "\n",
    "sys.path.append(os.path.abspath(os.path.join(os.path.dirname(\"__file__\"), \"../../\")))\n",
    "\n",
    "from config import settings\n",
    "from pyspark.sql import SparkSession\n",
    "from pyspark.sql.functions import col, trim\n",
    "\n",
    "spark = SparkSession.builder \\\n",
    "    .appName(\"Synthetic_ETL_Pipeline\") \\\n",
    "    .config(\"spark.jars\", settings.JDBC_PATH) \\\n",
    "    .getOrCreate()\n",
    "\n",
    "print(\"✅ Spark session started.\")"
   ]
  },
  {
   "cell_type": "code",
   "execution_count": 3,
   "id": "a1ca4715",
   "metadata": {},
   "outputs": [
    {
     "name": "stderr",
     "output_type": "stream",
     "text": [
      "25/06/20 10:19:01 WARN SparkSession: Using an existing Spark session; only runtime SQL configurations will take effect.\n"
     ]
    },
    {
     "name": "stdout",
     "output_type": "stream",
     "text": [
      "✅ Reading Parquet file from: /Users/aryan/Desktop/project/data/parquet_data/customers_transformed.parquet\n",
      "root\n",
      " |-- customer_id: string (nullable = true)\n",
      " |-- first_name: string (nullable = true)\n",
      " |-- last_name: string (nullable = true)\n",
      " |-- company: string (nullable = true)\n",
      " |-- city: string (nullable = true)\n",
      " |-- country: string (nullable = true)\n",
      " |-- phone1: string (nullable = true)\n",
      " |-- phone2: string (nullable = true)\n",
      " |-- email: string (nullable = true)\n",
      " |-- subscription_date: date (nullable = true)\n",
      " |-- website: string (nullable = true)\n",
      " |-- full_name: string (nullable = true)\n",
      " |-- email_lower: string (nullable = true)\n",
      " |-- country_upper: string (nullable = true)\n",
      " |-- name_length: integer (nullable = true)\n",
      " |-- ingested_at: timestamp (nullable = true)\n",
      "\n",
      "+---------------+----------+-----------+----------------------------+----------------+---------------------------------------------------+---------------------+----------------------+-----------------------------+-----------------+--------------------------+-------------------+-----------------------------+---------------------------------------------------+-----------+--------------------------+\n",
      "|customer_id    |first_name|last_name  |company                     |city            |country                                            |phone1               |phone2                |email                        |subscription_date|website                   |full_name          |email_lower                  |country_upper                                      |name_length|ingested_at               |\n",
      "+---------------+----------+-----------+----------------------------+----------------+---------------------------------------------------+---------------------+----------------------+-----------------------------+-----------------+--------------------------+-------------------+-----------------------------+---------------------------------------------------+-----------+--------------------------+\n",
      "|7E7aaaDcDD1DF15|Carmen    |Schwartz   |Cross-Riddle                |Lake Reginald   |Svalbard & Jan Mayen Islands                       |4647165973           |521.417.2410x2201     |sdecker@schwartz.com         |2021-01-06       |https://www.cole.info/    |Carmen Schwartz    |sdecker@schwartz.com         |SVALBARD & JAN MAYEN ISLANDS                       |15         |2025-06-19 19:41:24.572428|\n",
      "|1C3BF56A7dCb0c8|Yvette    |Mcgee      |Howard LLC                  |Desireechester  |Turkey                                             |001-954-953-3795x2055|001-945-337-3449x18713|morgandudley@moses.info      |2020-11-10       |https://vega-sandoval.com/|Yvette Mcgee       |morgandudley@moses.info      |TURKEY                                             |12         |2025-06-19 19:41:24.572428|\n",
      "|5ba4CF4FCB9cdd0|Gabrielle |Huynh      |Bean, Richard and Cervantes |Geneland        |Chad                                               |+1-680-094-5010x2233 |549-295-7876x5684     |ppaul@jones.com              |2021-10-11       |https://www.figueroa.com/ |Gabrielle Huynh    |ppaul@jones.com              |CHAD                                               |15         |2025-06-19 19:41:24.572428|\n",
      "|6A4ac73b40da5aE|Erik      |Moon       |Mendoza, Maldonado and Hunt |Turnerfurt      |Eritrea                                            |(257)524-4836x5951   |+1-190-578-5967x97108 |imendez@dyer-kramer.net      |2022-04-05       |https://www.jefferson.com/|Erik Moon          |imendez@dyer-kramer.net      |ERITREA                                            |9          |2025-06-19 19:41:24.572428|\n",
      "|B4C8D3D6e8Af2C0|Hailey    |Nguyen     |Serrano Group               |Elliottland     |Tunisia                                            |+1-879-977-7751      |597.355.8119          |hansoncole@waters-werner.com |2021-05-05       |https://www.munoz.com/    |Hailey Nguyen      |hansoncole@waters-werner.com |TUNISIA                                            |13         |2025-06-19 19:41:24.572428|\n",
      "|3a9f9Cd1792dcd2|Amber     |Caldwell   |Rasmussen PLC               |Lake Debraport  |Belize                                             |247.807.2507x366     |+1-841-701-7060       |mirandaayala@jacobs.com      |2020-01-21       |http://lowe.info/         |Amber Caldwell     |mirandaayala@jacobs.com      |BELIZE                                             |14         |2025-06-19 19:41:24.572428|\n",
      "|75Fe8bf3286ceFf|Sara      |Herring    |Summers, Downs and Trujillo |New Dominichaven|Papua New Guinea                                   |(328)579-1508        |001-452-362-2141x062  |kurthood@brandt.net          |2021-01-30       |http://oliver.com/        |Sara Herring       |kurthood@brandt.net          |PAPUA NEW GUINEA                                   |12         |2025-06-19 19:41:24.572428|\n",
      "|4962fdbE6Bfee6D|Pam       |Sparks     |Patel-Deleon                |Blakemouth      |British Indian Ocean Territory (Chagos Archipelago)|267-243-9490x035     |480-078-0535x889      |nicolas00@faulkner-kramer.com|2020-11-29       |https://nelson.com/       |Pam Sparks         |nicolas00@faulkner-kramer.com|BRITISH INDIAN OCEAN TERRITORY (CHAGOS ARCHIPELAGO)|10         |2025-06-19 19:41:24.572428|\n",
      "|EdDAB865E6e17A1|Ana       |Haney      |Ware, Cardenas and Barrera  |East Sandymouth |Canada                                             |001-499-608-9642x901 |349-310-7229          |castanedanathaniel@ryan.net  |2022-05-19       |http://www.hale.com/      |Ana Haney          |castanedanathaniel@ryan.net  |CANADA                                             |9          |2025-06-19 19:41:24.572428|\n",
      "|A6f6e8dff29F8cf|Peter     |Terry      |Walters, Dorsey and Walls   |New Vincent     |New Zealand                                        |849.369.0004x1608    |467.706.0447x08259    |levykaitlyn@khan.com         |2020-08-26       |http://www.callahan.com/  |Peter Terry        |levykaitlyn@khan.com         |NEW ZEALAND                                        |11         |2025-06-19 19:41:24.572428|\n",
      "|bebbC10636556Bd|Billy     |Nunez      |Dunlap, Green and Juarez    |Port Philiptown |Central African Republic                           |698.312.0503         |959-337-0948x4523     |benitezherbert@barnett.com   |2021-10-10       |http://www.villanueva.org/|Billy Nunez        |benitezherbert@barnett.com   |CENTRAL AFRICAN REPUBLIC                           |11         |2025-06-19 19:41:24.572428|\n",
      "|9b12Ae76fdBc9bE|Gina      |Rocha      |Acosta, Paul and Barber     |East Lynnchester|Costa Rica                                         |027.142.0940         |+1-752-593-4777x07171 |yfarley@morgan.com           |2021-01-03       |https://pineda-rogers.biz/|Gina Rocha         |yfarley@morgan.com           |COSTA RICA                                         |10         |2025-06-19 19:41:24.572428|\n",
      "|bd84dBFeE49EDD4|Shelley   |Friedman   |Meyer PLC                   |Hansontown      |Afghanistan                                        |269-077-2689         |+1-079-494-2274       |vsutton@arroyo-olsen.com     |2021-02-01       |http://vaughn.info/       |Shelley Friedman   |vsutton@arroyo-olsen.com     |AFGHANISTAN                                        |16         |2025-06-19 19:41:24.572428|\n",
      "|D5Ccd840d8F8Cd4|Darrell   |Manning    |Sellers and Sons            |Kentmouth       |Mauritius                                          |5786029894           |(741)513-2697         |keithclaire@gutierrez.net    |2020-10-02       |https://cuevas.biz/       |Darrell Manning    |keithclaire@gutierrez.net    |MAURITIUS                                          |15         |2025-06-19 19:41:24.572428|\n",
      "|Cabdc8B1c81651F|Sally     |Aguilar    |Morgan PLC                  |Schmittberg     |Czech Republic                                     |865.136.1659x2611    |575.650.5198x0599     |virginia86@keith.org         |2020-12-30       |https://gordon-owens.info/|Sally Aguilar      |virginia86@keith.org         |CZECH REPUBLIC                                     |13         |2025-06-19 19:41:24.572428|\n",
      "|2E066D7C950c11D|Nichole   |Christensen|Johnston LLC                |Petersland      |Trinidad and Tobago                                |7697366392           |(357)641-7486x0419    |udickerson@hodge.biz         |2020-12-31       |https://orr.com/          |Nichole Christensen|udickerson@hodge.biz         |TRINIDAD AND TOBAGO                                |19         |2025-06-19 19:41:24.572428|\n",
      "|6D6BBffaeE58b07|Kristi    |Thomas     |Stafford, Francis and Snyder|Louischester    |Latvia                                             |179.286.3590         |7115324228            |andrew92@keller-salinas.com  |2020-10-14       |http://porter.net/        |Kristi Thomas      |andrew92@keller-salinas.com  |LATVIA                                             |13         |2025-06-19 19:41:24.572428|\n",
      "|6AD52da0B40EefE|Molly     |Jensen     |Booth-Hobbs                 |East Beverlyport|Cote d'Ivoire                                      |252-680-6928         |001-869-882-8087x261  |debbiehood@mueller.info      |2020-12-24       |https://www.barr-west.biz/|Molly Jensen       |debbiehood@mueller.info      |COTE D'IVOIRE                                      |12         |2025-06-19 19:41:24.572428|\n",
      "|5704ED6a9Ad9Ee2|Lonnie    |Hall       |Holmes, Hardy and Hendrix   |Briannahaven    |Sudan                                              |(262)819-8930x6041   |(659)407-7637         |cassandra43@ramsey.org       |2020-12-21       |http://blanchard.com/     |Lonnie Hall        |cassandra43@ramsey.org       |SUDAN                                              |11         |2025-06-19 19:41:24.572428|\n",
      "|c46bF7F6a04E2aa|Kim       |Mcmillan   |Acosta LLC                  |Derrickshire    |Saudi Arabia                                       |030.305.1338x753     |001-869-933-9561x269  |pfigueroa@woods.com          |2021-08-12       |https://navarro.com/      |Kim Mcmillan       |pfigueroa@woods.com          |SAUDI ARABIA                                       |12         |2025-06-19 19:41:24.572428|\n",
      "+---------------+----------+-----------+----------------------------+----------------+---------------------------------------------------+---------------------+----------------------+-----------------------------+-----------------+--------------------------+-------------------+-----------------------------+---------------------------------------------------+-----------+--------------------------+\n",
      "only showing top 20 rows\n"
     ]
    }
   ],
   "source": [
    "import os\n",
    "import sys\n",
    "from pyspark.sql import SparkSession\n",
    "\n",
    "# Set manually for notebooks (since __file__ doesn't exist)\n",
    "BASE_DIR = os.path.abspath(\"../../\")\n",
    "\n",
    "sys.path.append(BASE_DIR)\n",
    "from config.spark_config import get_spark_session\n",
    "\n",
    "spark = get_spark_session(\"Read_Parquet_Customers\")\n",
    "\n",
    "parquet_path = os.path.join(BASE_DIR, \"data\", \"parquet_data\", \"customers_transformed.parquet\")\n",
    "\n",
    "if not os.path.exists(parquet_path):\n",
    "    raise FileNotFoundError(f\"❌ Parquet file not found at: {parquet_path}\")\n",
    "else:\n",
    "    print(f\"✅ Reading Parquet file from: {parquet_path}\")\n",
    "\n",
    "df = spark.read.parquet(parquet_path)\n",
    "\n",
    "df.printSchema()\n",
    "df.show(truncate=False)"
   ]
  },
  {
   "cell_type": "code",
   "execution_count": 4,
   "id": "dedc82bd",
   "metadata": {},
   "outputs": [
    {
     "name": "stderr",
     "output_type": "stream",
     "text": [
      "                                                                                \r"
     ]
    },
    {
     "name": "stdout",
     "output_type": "stream",
     "text": [
      "+---------------+----------+---------+------------------------------+-------------------+-------+----------------------+----------------------+-----------------------------------+-----------------+-------------------------------+-----------------+-----------------------------------+-------------+-----------+--------------------------+\n",
      "|customer_id    |first_name|last_name|company                       |city               |country|phone1                |phone2                |email                              |subscription_date|website                        |full_name        |email_lower                        |country_upper|name_length|ingested_at               |\n",
      "+---------------+----------+---------+------------------------------+-------------------+-------+----------------------+----------------------+-----------------------------------+-----------------+-------------------------------+-----------------+-----------------------------------+-------------+-----------+--------------------------+\n",
      "|B6513CF7282E2f7|Tanya     |Horne    |Gallegos-Mcdowell             |East Theodoreville |India  |001-971-984-3983x965  |345-695-1175x8260     |joy63@cole.info                    |2020-10-10       |https://jarvis-chen.org/       |Tanya Horne      |joy63@cole.info                    |INDIA        |11         |2025-06-19 19:41:24.572428|\n",
      "|e1614CB5aBe880c|Terrence  |Beltran  |Mendez Ltd                    |West Damonfort     |India  |(168)625-6729         |862-958-1108          |riley92@bray.com                   |2021-05-21       |http://www.hansen.com/         |Terrence Beltran |riley92@bray.com                   |INDIA        |16         |2025-06-19 19:41:24.572428|\n",
      "|5f92f9f6D11bda5|Angelica  |Snow     |Frey Group                    |Port Chloe         |India  |+1-218-867-8989x68509 |(679)668-7411x8914    |robert15@lang-rojas.com            |2020-09-15       |https://holden.com/            |Angelica Snow    |robert15@lang-rojas.com            |INDIA        |13         |2025-06-19 19:41:24.572428|\n",
      "|8C62C0FEdE14178|Chloe     |Phillips |Rowland-Bean                  |Tanyamouth         |India  |(843)322-0062         |582.256.4834          |bernard34@stephenson-cantu.info    |2021-07-16       |http://www.russo.com/          |Chloe Phillips   |bernard34@stephenson-cantu.info    |INDIA        |14         |2025-06-19 19:41:24.572428|\n",
      "|1B820C1e58f27Ed|Karen     |Mcguire  |Cline Group                   |Glenburgh          |India  |(051)457-2210x1190    |+1-955-957-4280x194   |cestes@wolfe.com                   |2021-09-07       |https://rhodes.com/            |Karen Mcguire    |cestes@wolfe.com                   |INDIA        |13         |2025-06-19 19:41:24.572428|\n",
      "|E640628245B30FF|Chelsey   |Orozco   |Watkins, Phelps and George    |Pamelaside         |India  |002.086.5444          |978.131.9721          |roliver@fowler.com                 |2021-04-07       |https://campbell.com/          |Chelsey Orozco   |roliver@fowler.com                 |INDIA        |14         |2025-06-19 19:41:24.572428|\n",
      "|a72dDDA586E780F|Hector    |Kramer   |Berry-Gillespie               |Caitlynshire       |India  |234-623-8110x1936     |001-008-562-3680x1260 |uwall@armstrong.com                |2020-02-26       |http://morrow-klein.com/       |Hector Kramer    |uwall@armstrong.com                |INDIA        |13         |2025-06-19 19:41:24.572428|\n",
      "|34fdFE4B4DfAE8F|Charlotte |Garza    |Levine, Schultz and Mayo      |South Clairechester|India  |(182)063-9200x430     |3478202186            |sabrinaanderson@santiago-galvan.com|2021-12-11       |http://www.lester.com/         |Charlotte Garza  |sabrinaanderson@santiago-galvan.com|INDIA        |15         |2025-06-19 19:41:24.572428|\n",
      "|1FffFbE5Bf571b5|Ashlee    |Gallegos |Gates, Dominguez and Gordon   |Gloriachester      |India  |(975)197-4144x57302   |+1-698-966-7804x941   |hector75@chandler-reese.info       |2020-09-02       |https://www.gould.com/         |Ashlee Gallegos  |hector75@chandler-reese.info       |INDIA        |15         |2025-06-19 19:41:24.572428|\n",
      "|0d8D6Fc31C62F35|Judith    |Trevino  |Richmond-Ferguson             |Humphreyview       |India  |028-941-4088x264      |001-386-614-9079x87090|greg07@clayton.info                |2021-09-20       |http://chavez.com/             |Judith Trevino   |greg07@clayton.info                |INDIA        |14         |2025-06-19 19:41:24.572428|\n",
      "|EF79fEFa115fdD7|Gwendolyn |Greer    |Robertson, Galloway and Moreno|Draketown          |India  |001-786-353-4685      |472-271-3133          |jaimedorsey@coffey-willis.com      |2020-03-03       |http://www.leonard-johnson.biz/|Gwendolyn Greer  |jaimedorsey@coffey-willis.com      |INDIA        |15         |2025-06-19 19:41:24.572428|\n",
      "|7BBc1ea4db7aBcB|Latoya    |Fuller   |Barr, Conner and Madden       |Wallerbury         |India  |+1-428-129-9886x46489 |058.488.8368          |rcabrera@hayden.com                |2020-05-10       |http://www.mosley.com/         |Latoya Fuller    |rcabrera@hayden.com                |INDIA        |13         |2025-06-19 19:41:24.572428|\n",
      "|f3Fb5215Cee4c4c|Charles   |Ibarra   |Ray, Giles and Wiggins        |East Paige         |India  |001-689-074-6980x23150|(079)291-8149         |oburns@mcmahon-macdonald.com       |2022-05-06       |https://www.mayer-hudson.com/  |Charles Ibarra   |oburns@mcmahon-macdonald.com       |INDIA        |14         |2025-06-19 19:41:24.572428|\n",
      "|10fDae6EadE593D|Eddie     |Glover   |Lin-Mccoy                     |South Guytown      |India  |704-729-9780          |(657)389-8959         |pagejoan@mullins-russell.com       |2020-01-09       |https://reese-fry.com/         |Eddie Glover     |pagejoan@mullins-russell.com       |INDIA        |12         |2025-06-19 19:41:24.572428|\n",
      "|53ca3f3c1Ed7B5F|Alex      |Summers  |Kidd, Rasmussen and Hammond   |Franciscochester   |India  |001-389-530-3388x623  |920.069.8219x8417     |jamiehouse@knox.net                |2022-04-10       |http://www.reed.com/           |Alex Summers     |jamiehouse@knox.net                |INDIA        |12         |2025-06-19 19:41:24.572428|\n",
      "|Ece8083AD37e8A4|Frances   |Palmer   |Romero-Wall                   |Port David         |India  |303.641.8849x36394    |790.145.3767x843      |joseph46@navarro.com               |2022-02-07       |http://ray.com/                |Frances Palmer   |joseph46@navarro.com               |INDIA        |14         |2025-06-19 19:41:24.572428|\n",
      "|78a6ADcdC0ca98D|Daniel    |Beasley  |Pham and Sons                 |Hutchinsonburgh    |India  |566.486.0119x8271     |(187)999-8727         |jimmysimpson@lowery.info           |2020-07-12       |https://andrews.com/           |Daniel Beasley   |jimmysimpson@lowery.info           |INDIA        |14         |2025-06-19 19:41:24.572428|\n",
      "|e082cBddE7c4bF0|Isabel    |Robinson |Maynard-Reeves                |North Tina         |India  |6003589132            |(192)490-7537         |hrodgers@moore.com                 |2020-05-11       |https://leach.com/             |Isabel Robinson  |hrodgers@moore.com                 |INDIA        |15         |2025-06-19 19:41:24.572428|\n",
      "|27ae3fFF3eefc96|Stefanie  |Ayala    |Bell-Haynes                   |Brittanyshire      |India  |023.093.3449x484      |001-510-869-9134x671  |jo53@ellison.com                   |2021-12-02       |https://leblanc-goodman.net/   |Stefanie Ayala   |jo53@ellison.com                   |INDIA        |14         |2025-06-19 19:41:24.572428|\n",
      "|1cEeB22ff6bdbCE|Caitlyn   |Jefferson|Harrison-Larsen               |New Joseshire      |India  |602-180-3429x9792     |+1-335-842-1273x516   |fheath@caldwell.info               |2020-05-22       |http://bell.com/               |Caitlyn Jefferson|fheath@caldwell.info               |INDIA        |17         |2025-06-19 19:41:24.572428|\n",
      "+---------------+----------+---------+------------------------------+-------------------+-------+----------------------+----------------------+-----------------------------------+-----------------+-------------------------------+-----------------+-----------------------------------+-------------+-----------+--------------------------+\n",
      "only showing top 20 rows\n"
     ]
    },
    {
     "data": {
      "text/plain": [
       "8279"
      ]
     },
     "execution_count": 4,
     "metadata": {},
     "output_type": "execute_result"
    }
   ],
   "source": [
    "from pyspark.sql.functions import upper\n",
    "\n",
    "# Filter rows where country_upper == 'INDIA'\n",
    "df_india = df.filter(upper(df[\"country_upper\"]) == \"INDIA\")\n",
    "\n",
    "# Show result\n",
    "df_india.show(truncate=False)\n",
    "df_india.count()"
   ]
  },
  {
   "cell_type": "code",
   "execution_count": null,
   "id": "5c5c379b",
   "metadata": {},
   "outputs": [
    {
     "name": "stderr",
     "output_type": "stream",
     "text": [
      "25/06/20 10:34:37 WARN SparkSession: Using an existing Spark session; only runtime SQL configurations will take effect.\n",
      "[Stage 8:>                                                          (0 + 1) / 1]\r"
     ]
    },
    {
     "name": "stdout",
     "output_type": "stream",
     "text": [
      "+---------------+----------+---------+--------------------+-----------------+--------------------+--------------------+--------------------+--------------------+-----------------+--------------------+\n",
      "|    customer_id|first_name|last_name|             company|             city|             country|              phone1|              phone2|               email|subscription_date|             website|\n",
      "+---------------+----------+---------+--------------------+-----------------+--------------------+--------------------+--------------------+--------------------+-----------------+--------------------+\n",
      "|4962fdbE6Bfee6D|       Pam|   Sparks|        Patel-Deleon|       Blakemouth|British Indian Oc...|    267-243-9490x035|    480-078-0535x889|nicolas00@faulkne...|       2020-11-29| https://nelson.com/|\n",
      "|9b12Ae76fdBc9bE|      Gina|    Rocha|Acosta, Paul and ...| East Lynnchester|          Costa Rica|        027.142.0940|+1-752-593-4777x0...|  yfarley@morgan.com|       2021-01-03|https://pineda-ro...|\n",
      "|39edFd2F60C85BC|   Kristie|    Greer|           Ochoa PLC|      West Pamela|             Ecuador|+1-049-168-7497x5053|     +1-311-216-7855|jennyhayden@petty...|       2021-06-20|https://mckinney....|\n",
      "|Fa42AE6a9aD39cE|    Arthur|   Fields|          Moyer-Wang|     East Belinda|         Afghanistan|001-653-754-7486x...|    521-630-3858x953|igrimes@ruiz-todd...|       2020-02-13|https://dominguez...|\n",
      "|F5702Edae925F1D|  Michelle|  Blevins|       Shah and Sons|       West Jared|    Marshall Islands|          8735278329|   (633)283-6034x500|diamondcarter@jor...|       2020-10-20|http://murillo-ry...|\n",
      "|84da6eCE9F4eEEB|   Kaitlyn|     Kirk|        Kelly-Davies|    Franklinburgh|             Tokelau|  734.810.5943x73447|001-878-023-8586x...|isabel67@morales.net|       2020-03-13| http://mcbride.com/|\n",
      "|6c1527acECE33bC|     Janet|   Suarez|            Shea Inc|         Barryton|        Cook Islands|  (715)382-1235x9057|  100-998-6999x84118|    stacy33@byrd.com|       2021-09-11|https://frye-krue...|\n",
      "|C1C45b6cDD1B6FE|   Gregory|  Woodard|       Clark-Pollard|      Chapmanstad|          Azerbaijan|        472.937.3936|001-143-949-2776x...|gouldstacie@dicke...|       2020-10-15|https://www.cisne...|\n",
      "|3d1Abf01dc563b9|      Mary|    Baker|          Kerr-Rojas|        New Tommy|          Tajikistan|  820.281.5251x14131|        351.177.6485|phyllisbrowning@g...|       2021-03-30|http://www.york.com/|\n",
      "|ebB12109b3c214c|   Patrick|  Padilla|        Roberson LLC|       Sheilaview|            Malaysia|    392.580.2266x443|       (044)312-4955|karinafrench@arel...|       2021-03-06|http://www.watts....|\n",
      "|0C5c6BdA69FB3eB|   Shelley|  Douglas|Simon, Benson and...|South Phyllisberg|     Solomon Islands|  (435)846-0837x0324|        575.062.9858|rosariotim@phelps...|       2021-09-17|https://www.barke...|\n",
      "|78cAC7cAE4f22B6|     Ellen|   Farley|Grimes, Arellano ...|       Shariville|             Germany|    248.833.1371x423|        340-383-6147|millervanessa@arn...|       2021-05-18|http://tran-rasmu...|\n",
      "|0BdA842E3bd16eB|    Eileen|    Wiley|Pugh, Fitzgerald ...|  Port Yvettefort|                Mali|    518.034.4451x769|  (221)581-1098x1507|mortonnicole@swan...|       2021-02-03|http://www.richar...|\n",
      "|B5cDF9dBC0a7AFf|     Edgar|     Rush|          Macias Inc|  Port Debbietown|           Venezuela|001-689-740-2832x431|   (827)050-6707x345|conniecantrell@so...|       2021-06-30|https://whitehead...|\n",
      "|aeC3CFCF7C623C1|     Riley|     Vang|       Richmond-Dunn|   North Margaret|             Senegal|          1642503278|001-271-204-5634x044|tfritz@aguilar-ru...|       2021-10-14|https://www.salin...|\n",
      "|4A6A1DD9cec0a22|      Glen|    Glass|Flowers, Weiss an...|      Russellland|      United Kingdom|   698-501-8630x5038|       (125)444-0580|gregory14@melende...|       2021-06-03|   http://brock.com/|\n",
      "|9FBfbd34c3f30d9|      Greg|   Rivers|Hendrix, Arias an...|   New Pedrohaven|             Senegal|          2382697028|        822-449-7638|mannkiara@bowman.com|       2020-02-19|https://www.richa...|\n",
      "|33c4e4DeD37E6E9|    Selena|  Gilmore| Barr, Yu and Monroe|    New Omarshire|            Colombia|001-013-444-8215x...|  (544)649-1493x5017|cschultz@marquez-...|       2021-05-25|   http://mays.info/|\n",
      "|D31D38D576aB1Bf|     Brian|   Brandt|Reed, Wiley and O...|         Rayville|    Marshall Islands|    608.531.0005x630|   926-957-7052x6181|dlynn@palmer-morg...|       2020-03-31|https://www.washi...|\n",
      "|26cEeB1904aAa0a|  Victoria|     Snow|         Huynh-Boone|      Gravesburgh|      Cayman Islands|   (342)275-7014x177|   171-772-6600x8761|fitzgeraldcalvin@...|       2020-12-21|   http://glenn.biz/|\n",
      "+---------------+----------+---------+--------------------+-----------------+--------------------+--------------------+--------------------+--------------------+-----------------+--------------------+\n",
      "only showing top 20 rows\n"
     ]
    },
    {
     "name": "stderr",
     "output_type": "stream",
     "text": [
      "                                                                                \r"
     ]
    }
   ],
   "source": [
    "from pyspark.sql import SparkSession\n",
    "from datetime import datetime\n",
    "import sys\n",
    "import os\n",
    "from config import settings \n",
    "timestamp = datetime.now().strftime(\"%Y%m%d_%H%M\")\n",
    "from pyspark.sql import SparkSession\n",
    "# Initialize Spark session\n",
    "spark = SparkSession.builder \\\n",
    "    .appName(\"ReadFromPostgresAndWriteParquet\") \\\n",
    "    .config(\"spark.jars\", settings.JDBC_PATH) \\\n",
    "    .getOrCreate()\n",
    "props = {\n",
    "    \"user\": settings.POSTGRES_USER,\n",
    "    \"password\": settings.POSTGRES_PASSWORD,\n",
    "    \"driver\": \"org.postgresql.Driver\"\n",
    "}\n",
    "df = spark.read.jdbc(\n",
    "    url=settings.JDBC_URL,\n",
    "    table=\"customers_2\",\n",
    "    properties=props\n",
    ")\n",
    "df.show()\n",
    "\n",
    "\n",
    "\n"
   ]
  },
  {
   "cell_type": "code",
   "execution_count": null,
   "id": "fc81e08d",
   "metadata": {},
   "outputs": [],
   "source": []
  }
 ],
 "metadata": {
  "kernelspec": {
   "display_name": "venv",
   "language": "python",
   "name": "python3"
  },
  "language_info": {
   "codemirror_mode": {
    "name": "ipython",
    "version": 3
   },
   "file_extension": ".py",
   "mimetype": "text/x-python",
   "name": "python",
   "nbconvert_exporter": "python",
   "pygments_lexer": "ipython3",
   "version": "3.9.6"
  }
 },
 "nbformat": 4,
 "nbformat_minor": 5
}
