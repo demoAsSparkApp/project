{
 "cells": [
  {
   "cell_type": "code",
   "execution_count": 0,
   "metadata": {
    "application/vnd.databricks.v1+cell": {
     "cellMetadata": {
      "byteLimit": 2048000,
      "rowLimit": 10000
     },
     "inputWidgets": {},
     "nuid": "495a1898-ebce-465e-b82e-f34cb76988c9",
     "showTitle": false,
     "tableResultSettingsMap": {},
     "title": ""
    }
   },
   "outputs": [],
   "source": [
    "from pyspark.sql.types import StructType, StringType, DoubleType, LongType\n",
    "\n",
    "schema = StructType() \\\n",
    "    .add(\"userId\", StringType()) \\\n",
    "    .add(\"movieId\", StringType()) \\\n",
    "    .add(\"rating\", DoubleType()) \\\n",
    "    .add(\"timestamp\", LongType())\n",
    "\n",
    "ratings_autoload_df = (\n",
    "    spark.readStream\n",
    "    .format(\"cloudFiles\")\n",
    "    .option(\"cloudFiles.format\", \"csv\")\n",
    "    .option(\"cloudFiles.schemaLocation\", \"/Volumes/workspace/imdb/stream_schema/\")\n",
    "    .schema(schema)\n",
    "    .load(\"/Volumes/workspace/imdb/stream_input/\")\n",
    ")"
   ]
  },
  {
   "cell_type": "code",
   "execution_count": 0,
   "metadata": {
    "application/vnd.databricks.v1+cell": {
     "cellMetadata": {
      "byteLimit": 2048000,
      "rowLimit": 10000
     },
     "inputWidgets": {},
     "nuid": "552fe579-4b5f-4b70-a5c8-f39ee6e79d76",
     "showTitle": false,
     "tableResultSettingsMap": {},
     "title": ""
    }
   },
   "outputs": [],
   "source": [
    "spark.conf.set(\"spark.sql.shuffle.partitions\", 4)\n",
    "#extra config to speed up writes\n",
    "#spark.conf.set(\"spark.sql.streaming.forceDeleteTempCheckpointLocation\", \"true\")\n",
    "#spark.conf.set(\"spark.executors.memory\", \"1g\")"
   ]
  },
  {
   "cell_type": "code",
   "execution_count": 0,
   "metadata": {
    "application/vnd.databricks.v1+cell": {
     "cellMetadata": {
      "byteLimit": 2048000,
      "rowLimit": 10000
     },
     "inputWidgets": {},
     "nuid": "778be9b1-8fdb-4b89-a4d4-0c470112e12f",
     "showTitle": false,
     "tableResultSettingsMap": {},
     "title": ""
    }
   },
   "outputs": [
    {
     "output_type": "execute_result",
     "data": {
      "text/plain": [
       "<pyspark.sql.connect.streaming.query.StreamingQuery at 0xfff7413f1750>"
      ]
     },
     "execution_count": 23,
     "metadata": {},
     "output_type": "execute_result"
    }
   ],
   "source": [
    "from pyspark.sql.types import StructType, StringType, IntegerType\n",
    "\n",
    "# Step 1: Define the schema\n",
    "schema = StructType() \\\n",
    "    .add(\"userId\", StringType()) \\\n",
    "    .add(\"movieId\", StringType()) \\\n",
    "    .add(\"rating\", IntegerType()) \\\n",
    "    .add(\"timestamp\", StringType())\n",
    "\n",
    "# Step 2: Read using Auto Loader\n",
    "ratings_autoload_df = (\n",
    "    spark.readStream\n",
    "    .format(\"cloudFiles\")\n",
    "    .option(\"cloudFiles.format\", \"csv\")\n",
    "    .schema(schema)\n",
    "    .load(\"/Volumes/workspace/imdb/stream_input/\")  # \uD83D\uDC48 Your volume path\n",
    ")\n",
    "\n",
    "# Step 3: Write to Delta with explicit checkpoint\n",
    "ratings_autoload_df.writeStream \\\n",
    "    .format(\"delta\") \\\n",
    "    .outputMode(\"append\") \\\n",
    "    .option(\"checkpointLocation\", \"/Volumes/workspace/imdb/ratings_v3_checkpoints/\") \\\n",
    "    .trigger(availableNow=True) \\\n",
    "    .start(\"/Volumes/workspace/imdb/ratings_v3/\")  # \uD83D\uDC48 Output path"
   ]
  },
  {
   "cell_type": "code",
   "execution_count": 0,
   "metadata": {
    "application/vnd.databricks.v1+cell": {
     "cellMetadata": {
      "byteLimit": 2048000,
      "implicitDf": true,
      "rowLimit": 10000
     },
     "inputWidgets": {},
     "nuid": "077281c1-73d6-4bd7-8286-e7c93af28568",
     "showTitle": false,
     "tableResultSettingsMap": {},
     "title": ""
    }
   },
   "outputs": [
    {
     "output_type": "display_data",
     "data": {
      "text/html": [
       "<style scoped>\n",
       "  .table-result-container {\n",
       "    max-height: 300px;\n",
       "    overflow: auto;\n",
       "  }\n",
       "  table, th, td {\n",
       "    border: 1px solid black;\n",
       "    border-collapse: collapse;\n",
       "  }\n",
       "  th, td {\n",
       "    padding: 5px;\n",
       "  }\n",
       "  th {\n",
       "    text-align: left;\n",
       "  }\n",
       "</style><div class='table-result-container'><table class='table-result'><thead style='background-color: white'><tr><th>userId</th><th>movieId</th><th>rating</th><th>timestamp</th></tr></thead><tbody><tr><td>tt0000001</td><td>5.7</td><td>2163</td><td>null</td></tr><tr><td>tt0000002</td><td>5.5</td><td>296</td><td>null</td></tr><tr><td>tt0000003</td><td>6.5</td><td>2217</td><td>null</td></tr><tr><td>tt0000004</td><td>5.3</td><td>189</td><td>null</td></tr><tr><td>tt0000005</td><td>6.2</td><td>2955</td><td>null</td></tr><tr><td>tt0000006</td><td>5.0</td><td>213</td><td>null</td></tr><tr><td>tt0000007</td><td>5.3</td><td>913</td><td>null</td></tr><tr><td>tt0000008</td><td>5.4</td><td>2306</td><td>null</td></tr><tr><td>tt0000009</td><td>5.4</td><td>226</td><td>null</td></tr><tr><td>tt0000010</td><td>6.8</td><td>7993</td><td>null</td></tr></tbody></table></div>"
      ]
     },
     "metadata": {
      "application/vnd.databricks.v1+output": {
       "addedWidgets": {},
       "aggData": [],
       "aggError": "",
       "aggOverflow": false,
       "aggSchema": [],
       "aggSeriesLimitReached": false,
       "aggType": "",
       "arguments": {},
       "columnCustomDisplayInfos": {},
       "data": [
        [
         "tt0000001",
         "5.7",
         2163,
         null
        ],
        [
         "tt0000002",
         "5.5",
         296,
         null
        ],
        [
         "tt0000003",
         "6.5",
         2217,
         null
        ],
        [
         "tt0000004",
         "5.3",
         189,
         null
        ],
        [
         "tt0000005",
         "6.2",
         2955,
         null
        ],
        [
         "tt0000006",
         "5.0",
         213,
         null
        ],
        [
         "tt0000007",
         "5.3",
         913,
         null
        ],
        [
         "tt0000008",
         "5.4",
         2306,
         null
        ],
        [
         "tt0000009",
         "5.4",
         226,
         null
        ],
        [
         "tt0000010",
         "6.8",
         7993,
         null
        ]
       ],
       "datasetInfos": [
        {
         "name": "_sqldf",
         "schema": {
          "fields": [
           {
            "metadata": {},
            "name": "userId",
            "nullable": true,
            "type": "string"
           },
           {
            "metadata": {},
            "name": "movieId",
            "nullable": true,
            "type": "string"
           },
           {
            "metadata": {},
            "name": "rating",
            "nullable": true,
            "type": "integer"
           },
           {
            "metadata": {},
            "name": "timestamp",
            "nullable": true,
            "type": "string"
           }
          ],
          "type": "struct"
         },
         "tableIdentifier": null,
         "typeStr": "pyspark.sql.connect.dataframe.DataFrame"
        }
       ],
       "dbfsResultPath": null,
       "isJsonSchema": true,
       "metadata": {
        "createTempViewForImplicitDf": true,
        "dataframeName": "_sqldf",
        "executionCount": 24
       },
       "overflow": false,
       "plotOptions": {
        "customPlotOptions": {},
        "displayType": "table",
        "pivotAggregation": null,
        "pivotColumns": null,
        "xColumns": null,
        "yColumns": null
       },
       "removedWidgets": [],
       "schema": [
        {
         "metadata": "{}",
         "name": "userId",
         "type": "\"string\""
        },
        {
         "metadata": "{}",
         "name": "movieId",
         "type": "\"string\""
        },
        {
         "metadata": "{}",
         "name": "rating",
         "type": "\"integer\""
        },
        {
         "metadata": "{}",
         "name": "timestamp",
         "type": "\"string\""
        }
       ],
       "type": "table"
      }
     },
     "output_type": "display_data"
    }
   ],
   "source": [
    "%sql\n",
    "SELECT * FROM delta.`/Volumes/workspace/imdb/ratings_v3/` LIMIT 10;"
   ]
  },
  {
   "cell_type": "code",
   "execution_count": 0,
   "metadata": {
    "application/vnd.databricks.v1+cell": {
     "cellMetadata": {
      "byteLimit": 2048000,
      "rowLimit": 10000
     },
     "inputWidgets": {},
     "nuid": "897156e4-9950-43c9-9c96-eb45f6de6e06",
     "showTitle": false,
     "tableResultSettingsMap": {},
     "title": ""
    }
   },
   "outputs": [],
   "source": [
    "from pyspark.sql.types import StructType, StringType, IntegerType\n",
    "\n",
    "# Define schema explicitly\n",
    "schema = StructType() \\\n",
    "    .add(\"userId\", StringType()) \\\n",
    "    .add(\"movieId\", StringType()) \\\n",
    "    .add(\"rating\", IntegerType()) \\\n",
    "    .add(\"timestamp\", StringType())\n",
    "\n",
    "# Set input and output volume paths\n",
    "input_path = \"/Volumes/workspace/imdb/stream_input/\"\n",
    "checkpoint_path = \"/Volumes/workspace/imdb/ratings_v2\"\n",
    "output_path = \"/Volumes/workspace/imdb/stream_output/ratings_delta/\"\n",
    "\n",
    "# Auto Loader streaming read\n",
    "ratings_autoload_df = (\n",
    "    spark.readStream\n",
    "    .format(\"cloudFiles\")                     # Auto Loader\n",
    "    .option(\"cloudFiles.format\", \"csv\")\n",
    "    .option(\"cloudFiles.inferColumnTypes\", \"false\")  # We define schema manually\n",
    "    .schema(schema)\n",
    "    .load(input_path)\n",
    ")\n",
    "\n"
   ]
  },
  {
   "cell_type": "code",
   "execution_count": 0,
   "metadata": {
    "application/vnd.databricks.v1+cell": {
     "cellMetadata": {
      "byteLimit": 2048000,
      "rowLimit": 10000
     },
     "inputWidgets": {},
     "nuid": "1b33dd45-b364-49d8-9b48-26524975447c",
     "showTitle": false,
     "tableResultSettingsMap": {},
     "title": ""
    }
   },
   "outputs": [
    {
     "output_type": "execute_result",
     "data": {
      "text/plain": [
       "<pyspark.sql.connect.streaming.query.StreamingQuery at 0xfff7622bee50>"
      ]
     },
     "execution_count": 13,
     "metadata": {},
     "output_type": "execute_result"
    }
   ],
   "source": [
    "output_path = \"/Volumes/workspace/imdb/ratings_v2\"  # ✅ New path\n",
    "\n",
    "ratings_autoload_df.writeStream \\\n",
    "    .format(\"delta\") \\\n",
    "    .option(\"checkpointLocation\", \"/Volumes/workspace/imdb/ratings_v2\") \\\n",
    "    .trigger(availableNow=True) \\\n",
    "    .start(output_path)\n",
    "# Wait for it to finish (optional)\n"
   ]
  },
  {
   "cell_type": "code",
   "execution_count": 0,
   "metadata": {
    "application/vnd.databricks.v1+cell": {
     "cellMetadata": {
      "byteLimit": 2048000,
      "rowLimit": 10000
     },
     "inputWidgets": {},
     "nuid": "55941b8e-c2cb-472e-9796-17639d3bfc91",
     "showTitle": false,
     "tableResultSettingsMap": {},
     "title": ""
    }
   },
   "outputs": [],
   "source": []
  },
  {
   "cell_type": "code",
   "execution_count": 0,
   "metadata": {
    "application/vnd.databricks.v1+cell": {
     "cellMetadata": {
      "byteLimit": 2048000,
      "implicitDf": true,
      "rowLimit": 10000
     },
     "inputWidgets": {},
     "nuid": "e5d2e828-eaf3-4710-ab09-ecb19c4f232a",
     "showTitle": false,
     "tableResultSettingsMap": {},
     "title": ""
    }
   },
   "outputs": [
    {
     "output_type": "display_data",
     "data": {
      "text/html": [
       "<style scoped>\n",
       "  .table-result-container {\n",
       "    max-height: 300px;\n",
       "    overflow: auto;\n",
       "  }\n",
       "  table, th, td {\n",
       "    border: 1px solid black;\n",
       "    border-collapse: collapse;\n",
       "  }\n",
       "  th, td {\n",
       "    padding: 5px;\n",
       "  }\n",
       "  th {\n",
       "    text-align: left;\n",
       "  }\n",
       "</style><div class='table-result-container'><table class='table-result'><thead style='background-color: white'><tr><th>userId</th><th>movieId</th><th>rating</th><th>timestamp</th></tr></thead><tbody><tr><td>tt0000001</td><td>5.7</td><td>2163</td><td>null</td></tr><tr><td>tt0000002</td><td>5.5</td><td>296</td><td>null</td></tr><tr><td>tt0000003</td><td>6.5</td><td>2217</td><td>null</td></tr><tr><td>tt0000004</td><td>5.3</td><td>189</td><td>null</td></tr><tr><td>tt0000005</td><td>6.2</td><td>2955</td><td>null</td></tr><tr><td>tt0000006</td><td>5.0</td><td>213</td><td>null</td></tr><tr><td>tt0000007</td><td>5.3</td><td>913</td><td>null</td></tr><tr><td>tt0000008</td><td>5.4</td><td>2306</td><td>null</td></tr><tr><td>tt0000009</td><td>5.4</td><td>226</td><td>null</td></tr><tr><td>tt0000010</td><td>6.8</td><td>7993</td><td>null</td></tr></tbody></table></div>"
      ]
     },
     "metadata": {
      "application/vnd.databricks.v1+output": {
       "addedWidgets": {},
       "aggData": [],
       "aggError": "",
       "aggOverflow": false,
       "aggSchema": [],
       "aggSeriesLimitReached": false,
       "aggType": "",
       "arguments": {},
       "columnCustomDisplayInfos": {},
       "data": [
        [
         "tt0000001",
         "5.7",
         2163,
         null
        ],
        [
         "tt0000002",
         "5.5",
         296,
         null
        ],
        [
         "tt0000003",
         "6.5",
         2217,
         null
        ],
        [
         "tt0000004",
         "5.3",
         189,
         null
        ],
        [
         "tt0000005",
         "6.2",
         2955,
         null
        ],
        [
         "tt0000006",
         "5.0",
         213,
         null
        ],
        [
         "tt0000007",
         "5.3",
         913,
         null
        ],
        [
         "tt0000008",
         "5.4",
         2306,
         null
        ],
        [
         "tt0000009",
         "5.4",
         226,
         null
        ],
        [
         "tt0000010",
         "6.8",
         7993,
         null
        ]
       ],
       "datasetInfos": [
        {
         "name": "_sqldf",
         "schema": {
          "fields": [
           {
            "metadata": {},
            "name": "userId",
            "nullable": true,
            "type": "string"
           },
           {
            "metadata": {},
            "name": "movieId",
            "nullable": true,
            "type": "string"
           },
           {
            "metadata": {},
            "name": "rating",
            "nullable": true,
            "type": "integer"
           },
           {
            "metadata": {},
            "name": "timestamp",
            "nullable": true,
            "type": "string"
           }
          ],
          "type": "struct"
         },
         "tableIdentifier": null,
         "typeStr": "pyspark.sql.connect.dataframe.DataFrame"
        }
       ],
       "dbfsResultPath": null,
       "isJsonSchema": true,
       "metadata": {
        "createTempViewForImplicitDf": true,
        "dataframeName": "_sqldf",
        "executionCount": 15
       },
       "overflow": false,
       "plotOptions": {
        "customPlotOptions": {},
        "displayType": "table",
        "pivotAggregation": null,
        "pivotColumns": null,
        "xColumns": null,
        "yColumns": null
       },
       "removedWidgets": [],
       "schema": [
        {
         "metadata": "{}",
         "name": "userId",
         "type": "\"string\""
        },
        {
         "metadata": "{}",
         "name": "movieId",
         "type": "\"string\""
        },
        {
         "metadata": "{}",
         "name": "rating",
         "type": "\"integer\""
        },
        {
         "metadata": "{}",
         "name": "timestamp",
         "type": "\"string\""
        }
       ],
       "type": "table"
      }
     },
     "output_type": "display_data"
    }
   ],
   "source": [
    "%sql\n",
    "SELECT * FROM delta.`/Volumes/workspace/imdb/ratings_v2` LIMIT 10;"
   ]
  },
  {
   "cell_type": "code",
   "execution_count": 0,
   "metadata": {
    "application/vnd.databricks.v1+cell": {
     "cellMetadata": {},
     "inputWidgets": {},
     "nuid": "41820a36-a8f5-4457-b7b0-8fea6748cbdf",
     "showTitle": false,
     "tableResultSettingsMap": {},
     "title": ""
    }
   },
   "outputs": [],
   "source": []
  }
 ],
 "metadata": {
  "application/vnd.databricks.v1+notebook": {
   "computePreferences": null,
   "dashboards": [],
   "environmentMetadata": {
    "base_environment": "",
    "environment_version": "2"
   },
   "inputWidgetPreferences": null,
   "language": "python",
   "notebookMetadata": {
    "mostRecentlyExecutedCommandWithImplicitDF": {
     "commandId": 8064372585455000,
     "dataframes": [
      "_sqldf"
     ]
    },
    "pythonIndentUnit": 4
   },
   "notebookName": "Auto_loader",
   "widgets": {}
  },
  "language_info": {
   "name": "python"
  }
 },
 "nbformat": 4,
 "nbformat_minor": 0
}